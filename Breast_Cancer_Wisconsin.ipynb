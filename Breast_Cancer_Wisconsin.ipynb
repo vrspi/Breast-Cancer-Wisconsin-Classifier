{
  "nbformat": 4,
  "nbformat_minor": 0,
  "metadata": {
    "colab": {
      "provenance": [],
      "toc_visible": true,
      "authorship_tag": "ABX9TyOeIk/bpDl+M4JLiSOHOJPy",
      "include_colab_link": true
    },
    "kernelspec": {
      "name": "python3",
      "display_name": "Python 3"
    },
    "language_info": {
      "name": "python"
    }
  },
  "cells": [
    {
      "cell_type": "markdown",
      "metadata": {
        "id": "view-in-github",
        "colab_type": "text"
      },
      "source": [
        "<a href=\"https://colab.research.google.com/github/vrspi/Breast-Cancer-Wisconsin-Classifier/blob/main/Breast_Cancer_Wisconsin.ipynb\" target=\"_parent\"><img src=\"https://colab.research.google.com/assets/colab-badge.svg\" alt=\"Open In Colab\"/></a>"
      ]
    },
    {
      "cell_type": "markdown",
      "source": [
        "# Import Libs"
      ],
      "metadata": {
        "id": "HCqvKlz3OCKj"
      }
    },
    {
      "cell_type": "code",
      "execution_count": null,
      "metadata": {
        "id": "tAAsnzcUM0_h"
      },
      "outputs": [],
      "source": [
        "import numpy as np\n",
        "import pandas as pd\n",
        "from matplotlib import pyplot as plt"
      ]
    },
    {
      "cell_type": "code",
      "source": [
        "dataset = pd.read_csv(\"breast_cancer.csv\")\n",
        "X = dataset.iloc[:,:-1].values\n",
        "Y = dataset.iloc[:,-1].values"
      ],
      "metadata": {
        "id": "0C1cMVjsNIZP"
      },
      "execution_count": null,
      "outputs": []
    },
    {
      "cell_type": "markdown",
      "source": [
        "# DATA PREPROCESSING"
      ],
      "metadata": {
        "id": "qnZBAyenN_gl"
      }
    },
    {
      "cell_type": "code",
      "source": [
        "from sklearn.model_selection import train_test_split\n",
        "\n",
        "x_train,x_test,y_train,y_test = train_test_split(X,Y,test_size=0.2,random_state=0)\n"
      ],
      "metadata": {
        "id": "HVQG46vIN-C3"
      },
      "execution_count": null,
      "outputs": []
    },
    {
      "cell_type": "code",
      "source": [
        "print(y_train[:10])"
      ],
      "metadata": {
        "colab": {
          "base_uri": "https://localhost:8080/"
        },
        "id": "t7ht9SBGOwmC",
        "outputId": "1a1930c1-5481-4c7e-8407-7bb83ef14411"
      },
      "execution_count": null,
      "outputs": [
        {
          "output_type": "stream",
          "name": "stdout",
          "text": [
            "[4 2 2 2 4 2 2 2 2 4]\n"
          ]
        }
      ]
    },
    {
      "cell_type": "code",
      "source": [
        "print(x_train[:10])"
      ],
      "metadata": {
        "colab": {
          "base_uri": "https://localhost:8080/"
        },
        "id": "JbxWBz9xP0yM",
        "outputId": "3fba3af5-1df5-4b89-9c5b-88a06f7e6ea0"
      },
      "execution_count": null,
      "outputs": [
        {
          "output_type": "stream",
          "name": "stdout",
          "text": [
            "[[ 752904      10       1       1       1       2      10       5       4\n",
            "        1]\n",
            " [1218860       1       1       1       1       1       1       3       1\n",
            "        1]\n",
            " [ 411453       5       1       1       1       2       1       3       1\n",
            "        1]\n",
            " [1237674       3       1       2       1       2       1       2       1\n",
            "        1]\n",
            " [1168359       8       2       3       1       6       3       7       1\n",
            "        1]\n",
            " [ 385103       1       1       1       1       2       1       3       1\n",
            "        1]\n",
            " [1201834       2       1       1       1       2       1       3       1\n",
            "        1]\n",
            " [1201870       4       1       1       3       1       1       2       1\n",
            "        1]\n",
            " [ 242970       5       7       7       1       5       8       3       4\n",
            "        1]\n",
            " [1242364       8      10      10       8       6       9       3      10\n",
            "       10]]\n"
          ]
        }
      ]
    },
    {
      "cell_type": "markdown",
      "source": [
        "# Features scaling"
      ],
      "metadata": {
        "id": "9sd6NEd3Pc5L"
      }
    },
    {
      "cell_type": "code",
      "source": [
        "#the first column is out of range \n",
        "from sklearn.preprocessing import StandardScaler\n",
        "sc = StandardScaler()\n",
        "x_train = sc.fit_transform(x_train)\n",
        "x_test = sc.fit_transform(x_test)"
      ],
      "metadata": {
        "id": "xSGpE6joPiuU"
      },
      "execution_count": null,
      "outputs": []
    },
    {
      "cell_type": "code",
      "source": [
        "print(x_train[:10])"
      ],
      "metadata": {
        "colab": {
          "base_uri": "https://localhost:8080/"
        },
        "id": "TKNH9DbnP69y",
        "outputId": "97cf35a4-4716-4196-d220-5a727a757a2d"
      },
      "execution_count": null,
      "outputs": [
        {
          "output_type": "stream",
          "name": "stdout",
          "text": [
            "[[-0.49838781  1.98839518 -0.69781134 -0.74152574 -0.63363747 -0.54871998\n",
            "   1.81553572  0.61907387  0.34532102 -0.33863738]\n",
            " [ 0.19242611 -1.22468404 -0.69781134 -0.74152574 -0.63363747 -0.99789705\n",
            "  -0.68279599 -0.18860673 -0.62157783 -0.33863738]\n",
            " [-1.00461394  0.20335117 -0.69781134 -0.74152574 -0.63363747 -0.54871998\n",
            "  -0.68279599 -0.18860673 -0.62157783 -0.33863738]\n",
            " [ 0.22031924 -0.51066644 -0.69781134 -0.40497291 -0.63363747 -0.54871998\n",
            "  -0.68279599 -0.59244703 -0.62157783 -0.33863738]\n",
            " [ 0.11755467  1.27437758 -0.37244414 -0.06842008 -0.63363747  1.24798832\n",
            "  -0.12761116  1.42675446 -0.62157783 -0.33863738]\n",
            " [-1.04367974 -1.22468404 -0.69781134 -0.74152574 -0.63363747 -0.54871998\n",
            "  -0.68279599 -0.18860673 -0.62157783 -0.33863738]\n",
            " [ 0.16718381 -0.86767524 -0.69781134 -0.74152574 -0.63363747 -0.54871998\n",
            "  -0.68279599 -0.18860673 -0.62157783 -0.33863738]\n",
            " [ 0.16723719 -0.15365763 -0.69781134 -0.74152574  0.07530937 -0.99789705\n",
            "  -0.68279599 -0.59244703 -0.62157783 -0.33863738]\n",
            " [-1.25440233  0.20335117  1.25439187  1.27779124 -0.63363747  0.79881124\n",
            "   1.2603509  -0.18860673  0.34532102 -0.33863738]\n",
            " [ 0.22727251  1.27437758  2.23049348  2.28744973  1.84767647  1.24798832\n",
            "   1.53794331 -0.18860673  2.27911872  4.7658537 ]]\n"
          ]
        }
      ]
    },
    {
      "cell_type": "markdown",
      "source": [
        "# train model (Logistic Regression)"
      ],
      "metadata": {
        "id": "E37CSQTiPIWI"
      }
    },
    {
      "cell_type": "code",
      "source": [
        "from sklearn.linear_model import LogisticRegression\n",
        "\n",
        "Classifier = LogisticRegression(random_state=0)\n",
        "Classifier.fit(x_train,y_train)"
      ],
      "metadata": {
        "colab": {
          "base_uri": "https://localhost:8080/"
        },
        "id": "VRuQv_Q6POK1",
        "outputId": "f23da300-0b65-433e-9900-94f5f60a47d1"
      },
      "execution_count": null,
      "outputs": [
        {
          "output_type": "execute_result",
          "data": {
            "text/plain": [
              "LogisticRegression(random_state=0)"
            ]
          },
          "metadata": {},
          "execution_count": 34
        }
      ]
    },
    {
      "cell_type": "code",
      "source": [
        "Y_pred = Classifier.predict(x_test)\n",
        "\n",
        "print(Y_pred)\n",
        "print(y_test)"
      ],
      "metadata": {
        "colab": {
          "base_uri": "https://localhost:8080/"
        },
        "id": "hFGVTzBmQEtd",
        "outputId": "295cb930-033d-43df-fa97-3b8e63d38f57"
      },
      "execution_count": null,
      "outputs": [
        {
          "output_type": "stream",
          "name": "stdout",
          "text": [
            "[2 2 4 4 2 2 2 4 2 2 4 2 4 2 2 2 4 4 4 2 2 2 4 2 4 4 2 2 2 4 2 4 4 2 2 2 4\n",
            " 4 2 4 2 2 2 2 2 2 2 4 2 2 4 2 4 2 2 2 4 4 2 4 2 2 2 2 2 2 2 2 4 4 2 2 2 2\n",
            " 2 2 4 2 2 2 4 2 4 2 2 4 2 4 4 2 4 2 4 4 2 4 4 4 4 2 2 2 4 4 2 2 4 2 2 2 4\n",
            " 2 2 4 2 2 2 2 2 2 2 4 2 2 4 4 2 4 2 4 2 2 4 2 2 4 2]\n",
            "[2 2 4 4 2 2 2 4 2 2 4 2 4 2 2 2 4 4 4 2 2 2 4 2 4 4 2 2 2 4 2 4 4 2 2 2 4\n",
            " 4 2 4 2 2 2 2 2 2 2 4 2 2 4 2 4 2 2 2 4 2 2 4 2 2 2 2 2 2 2 2 4 4 2 2 2 2\n",
            " 2 2 4 2 2 2 4 2 4 2 2 4 2 2 4 2 4 2 4 4 4 2 4 4 4 2 2 2 4 4 2 2 4 4 2 2 4\n",
            " 2 2 4 2 2 2 4 2 2 2 4 2 2 4 4 2 4 2 4 2 2 4 2 2 4 2]\n"
          ]
        }
      ]
    },
    {
      "cell_type": "markdown",
      "source": [
        "# Evaluate the model"
      ],
      "metadata": {
        "id": "hl-FQCDJRtFd"
      }
    },
    {
      "cell_type": "code",
      "source": [
        "from sklearn.metrics import accuracy_score,confusion_matrix\n",
        "\n",
        "\n",
        "cm = confusion_matrix(y_test,Y_pred,labels=[2,4])\n",
        "print(cm)\n",
        "accuracy_score(y_test,Y_pred)"
      ],
      "metadata": {
        "colab": {
          "base_uri": "https://localhost:8080/"
        },
        "id": "-VEZNrzqRwlD",
        "outputId": "510c4b8a-146d-47e4-fe0d-2ba110b95a51"
      },
      "execution_count": null,
      "outputs": [
        {
          "output_type": "stream",
          "name": "stdout",
          "text": [
            "[[84  3]\n",
            " [ 3 47]]\n"
          ]
        },
        {
          "output_type": "execute_result",
          "data": {
            "text/plain": [
              "0.9562043795620438"
            ]
          },
          "metadata": {},
          "execution_count": 43
        }
      ]
    }
  ]
}